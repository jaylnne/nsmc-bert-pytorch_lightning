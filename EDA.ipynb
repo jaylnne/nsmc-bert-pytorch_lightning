{
 "cells": [
  {
   "cell_type": "markdown",
   "id": "1d5b8d7d-2867-4b23-ab4d-587e0ff7ad0b",
   "metadata": {},
   "source": [
    "### 네이버 영화 평점 리뷰 데이터 노트북"
   ]
  },
  {
   "cell_type": "markdown",
   "id": "ca267689-bfc2-45fc-9684-c04c885f1153",
   "metadata": {},
   "source": [
    "#### 읽어오기"
   ]
  },
  {
   "cell_type": "code",
   "execution_count": 1,
   "id": "57eb0e7e-1e42-4273-95d5-8d863a810cca",
   "metadata": {
    "tags": []
   },
   "outputs": [],
   "source": [
    "import pandas as pd\n",
    "\n",
    "train = pd.read_csv('data/ratings_train.txt', sep='\\t')\n",
    "test = pd.read_csv('data/ratings_test.txt', sep='\\t')"
   ]
  },
  {
   "cell_type": "markdown",
   "id": "43bc5f78-3f71-452d-897f-b2f4d941174b",
   "metadata": {},
   "source": [
    "#### Null 값 제거하기"
   ]
  },
  {
   "cell_type": "code",
   "execution_count": 2,
   "id": "d14ffad7-4e05-424f-ba28-61cc3d00e99b",
   "metadata": {},
   "outputs": [
    {
     "name": "stdout",
     "output_type": "stream",
     "text": [
      "trainset null 개수:\n",
      "id          0\n",
      "document    5\n",
      "label       0\n",
      "dtype: int64\n",
      "\n",
      "testset null 개수:\n",
      "id          0\n",
      "document    3\n",
      "label       0\n",
      "dtype: int64\n"
     ]
    }
   ],
   "source": [
    "# null 개수 확인\n",
    "print(f'trainset null 개수:\\n{train.isnull().sum()}\\n')\n",
    "print(f'testset null 개수:\\n{test.isnull().sum()}')"
   ]
  },
  {
   "cell_type": "code",
   "execution_count": 3,
   "id": "fbb578b3-5c0d-499f-baeb-77daf0e86855",
   "metadata": {},
   "outputs": [],
   "source": [
    "train.dropna(inplace=True)\n",
    "test.dropna(inplace=True)"
   ]
  },
  {
   "cell_type": "markdown",
   "id": "8c4f0b7f-bbcd-4049-85ae-295cac6ef340",
   "metadata": {},
   "source": [
    "#### 중복 제거하기"
   ]
  },
  {
   "cell_type": "code",
   "execution_count": 4,
   "id": "22890b74-901c-4def-abc5-ea7f94c8bb4a",
   "metadata": {},
   "outputs": [
    {
     "name": "stdout",
     "output_type": "stream",
     "text": [
      "중복 제거 전 train length: 149995\n",
      "중복 제거 후 train length: 146182\n",
      "\n",
      "중복 제거 전 test length: 49997\n",
      "중복 제거 후 test length: 49157\n",
      "\n"
     ]
    }
   ],
   "source": [
    "print(f'중복 제거 전 train length: {len(train)}')\n",
    "train.drop_duplicates(subset=['document'], inplace=True, ignore_index=True)\n",
    "print(f'중복 제거 후 train length: {len(train)}\\n')\n",
    "print(f'중복 제거 전 test length: {len(test)}')\n",
    "test.drop_duplicates(subset=['document'], inplace=True, ignore_index=True)\n",
    "print(f'중복 제거 후 test length: {len(test)}\\n')"
   ]
  },
  {
   "cell_type": "markdown",
   "id": "d1588824-94d9-4e2a-8005-d1a82647870c",
   "metadata": {},
   "source": [
    "#### 정규표현식으로 한국어만 남기기"
   ]
  },
  {
   "cell_type": "code",
   "execution_count": 5,
   "id": "e5800cc2-a1c7-4896-a346-a7e26bb3e8fb",
   "metadata": {},
   "outputs": [],
   "source": [
    "import re\n",
    "from tqdm import tqdm\n",
    "\n",
    "def cleaning(df):\n",
    "    for idx, row in tqdm(df.iterrows(), desc='cleaning', total=len(df)):\n",
    "        new_doc = re.sub('[^가-힣]', '', row['document']).strip()\n",
    "        df.loc[idx, 'document'] = new_doc\n",
    "    return df"
   ]
  },
  {
   "cell_type": "code",
   "execution_count": 6,
   "id": "05d9e9d5-87e8-45b6-b63c-6433aa55d460",
   "metadata": {},
   "outputs": [
    {
     "name": "stderr",
     "output_type": "stream",
     "text": [
      "cleaning: 100%|██████████| 146182/146182 [00:23<00:00, 6183.17it/s]\n",
      "cleaning: 100%|██████████| 49157/49157 [00:07<00:00, 6252.30it/s]\n"
     ]
    }
   ],
   "source": [
    "train = cleaning(train)\n",
    "test = cleaning(test)"
   ]
  },
  {
   "cell_type": "markdown",
   "id": "210a8c33-571d-4559-a92a-aec2db9d3c75",
   "metadata": {},
   "source": [
    "#### 조사 제거하기"
   ]
  },
  {
   "cell_type": "code",
   "execution_count": 7,
   "id": "95dc7828-b3f6-4ff7-a764-addc1ef2e7ad",
   "metadata": {},
   "outputs": [
    {
     "name": "stderr",
     "output_type": "stream",
     "text": [
      "removing josa: 100%|██████████| 146182/146182 [00:39<00:00, 3698.32it/s]\n",
      "removing josa: 100%|██████████| 49157/49157 [00:13<00:00, 3673.89it/s]\n"
     ]
    }
   ],
   "source": [
    "from konlpy.tag import Mecab\n",
    "\n",
    "m = Mecab()\n",
    "mecab_tags = ['JKS', 'JKC', 'JKG', 'JKO', 'JKB', 'JKV', 'JKQ', 'JX', 'JC', 'JK']\n",
    "\n",
    "def remove_josa_mecab(df, tags):\n",
    "    for idx, row in tqdm(df.iterrows(), desc='removing josa', total=len(df)):\n",
    "        josa_removed = [x[0] for x in m.pos(row['document']) if x[1] not in tags]\n",
    "        df.loc[idx, 'document'] = ' '.join(josa_removed)\n",
    "    return df\n",
    "\n",
    "train_mecab = remove_josa_mecab(train, mecab_tags)\n",
    "test_mecab = remove_josa_mecab(test, mecab_tags)"
   ]
  },
  {
   "cell_type": "code",
   "execution_count": 8,
   "id": "89d4dcee-3ad6-4044-b2af-18b5f2869df0",
   "metadata": {},
   "outputs": [
    {
     "name": "stderr",
     "output_type": "stream",
     "text": [
      "removing josa: 100%|██████████| 146182/146182 [02:03<00:00, 1187.99it/s]\n",
      "removing josa: 100%|██████████| 49157/49157 [00:40<00:00, 1217.17it/s]\n"
     ]
    }
   ],
   "source": [
    "from konlpy.tag import Komoran\n",
    "\n",
    "k = Komoran()\n",
    "komoran_tags = ['JK', 'JKS', 'JKC', 'JKG', 'JKO', 'JKB', 'JKV', 'JKQ', 'JX', 'JC']\n",
    "\n",
    "def remove_josa_komoran(df, tags):\n",
    "    for idx, row in tqdm(df.iterrows(), desc='removing josa', total=len(df)):\n",
    "        josa_removed = [x[0] for x in k.pos(row['document']) if x[1] not in tags]\n",
    "        df.loc[idx, 'document'] = ' '.join(josa_removed)\n",
    "    return df\n",
    "\n",
    "train_komoran = remove_josa_komoran(train, komoran_tags)\n",
    "test_komoran = remove_josa_komoran(test, komoran_tags)"
   ]
  },
  {
   "cell_type": "markdown",
   "id": "8ddfb1ff-08c9-46de-bf30-064dcdff8456",
   "metadata": {},
   "source": [
    "#### label 분포 확인하기"
   ]
  },
  {
   "cell_type": "code",
   "execution_count": null,
   "id": "5cff5c9c-b495-4c38-8c6f-126866f596b7",
   "metadata": {},
   "outputs": [],
   "source": []
  }
 ],
 "metadata": {
  "kernelspec": {
   "display_name": "py38",
   "language": "python",
   "name": "py38"
  },
  "language_info": {
   "codemirror_mode": {
    "name": "ipython",
    "version": 3
   },
   "file_extension": ".py",
   "mimetype": "text/x-python",
   "name": "python",
   "nbconvert_exporter": "python",
   "pygments_lexer": "ipython3",
   "version": "3.8.12"
  }
 },
 "nbformat": 4,
 "nbformat_minor": 5
}
