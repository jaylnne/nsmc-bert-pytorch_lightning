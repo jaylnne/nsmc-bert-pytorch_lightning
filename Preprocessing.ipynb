{
 "cells": [
  {
   "cell_type": "markdown",
   "id": "1d5b8d7d-2867-4b23-ab4d-587e0ff7ad0b",
   "metadata": {},
   "source": [
    "### 네이버 영화 평점 리뷰 데이터 노트북"
   ]
  },
  {
   "cell_type": "markdown",
   "id": "ca267689-bfc2-45fc-9684-c04c885f1153",
   "metadata": {},
   "source": [
    "#### 읽어오기"
   ]
  },
  {
   "cell_type": "code",
   "execution_count": 1,
   "id": "2953aea1-b1f6-4c29-b229-3e7629cb2d27",
   "metadata": {},
   "outputs": [
    {
     "data": {
      "text/plain": [
       "'data/ratings_test (1).txt'"
      ]
     },
     "execution_count": 1,
     "metadata": {},
     "output_type": "execute_result"
    }
   ],
   "source": [
    "import wget\n",
    "\n",
    "wget.download('https://github.com/e9t/nsmc/raw/master/ratings_train.txt', out='data')\n",
    "wget.download('https://github.com/e9t/nsmc/raw/master/ratings_test.txt', out='data')"
   ]
  },
  {
   "cell_type": "code",
   "execution_count": 2,
   "id": "57eb0e7e-1e42-4273-95d5-8d863a810cca",
   "metadata": {
    "tags": []
   },
   "outputs": [],
   "source": [
    "import pandas as pd\n",
    "\n",
    "train = pd.read_csv('data/ratings_train.txt', sep='\\t')\n",
    "test = pd.read_csv('data/ratings_test.txt', sep='\\t')\n",
    "\n",
    "# 필요없는 열은 drop\n",
    "train.drop(['id'], axis=1, inplace=True)\n",
    "test.drop(['id'], axis=1, inplace=True)"
   ]
  },
  {
   "cell_type": "markdown",
   "id": "43bc5f78-3f71-452d-897f-b2f4d941174b",
   "metadata": {},
   "source": [
    "#### Null 값 제거하기"
   ]
  },
  {
   "cell_type": "code",
   "execution_count": 3,
   "id": "d14ffad7-4e05-424f-ba28-61cc3d00e99b",
   "metadata": {},
   "outputs": [
    {
     "name": "stdout",
     "output_type": "stream",
     "text": [
      "trainset null 개수:\n",
      "document    5\n",
      "label       0\n",
      "dtype: int64\n",
      "\n",
      "testset null 개수:\n",
      "document    3\n",
      "label       0\n",
      "dtype: int64\n"
     ]
    }
   ],
   "source": [
    "# null 개수 확인\n",
    "print(f'trainset null 개수:\\n{train.isnull().sum()}\\n')\n",
    "print(f'testset null 개수:\\n{test.isnull().sum()}')"
   ]
  },
  {
   "cell_type": "code",
   "execution_count": 4,
   "id": "fbb578b3-5c0d-499f-baeb-77daf0e86855",
   "metadata": {},
   "outputs": [],
   "source": [
    "train.dropna(inplace=True)\n",
    "test.dropna(inplace=True)"
   ]
  },
  {
   "cell_type": "markdown",
   "id": "8c4f0b7f-bbcd-4049-85ae-295cac6ef340",
   "metadata": {},
   "source": [
    "#### 중복 제거하기"
   ]
  },
  {
   "cell_type": "code",
   "execution_count": 5,
   "id": "22890b74-901c-4def-abc5-ea7f94c8bb4a",
   "metadata": {},
   "outputs": [
    {
     "name": "stdout",
     "output_type": "stream",
     "text": [
      "중복 제거 전 train length: 149995\n",
      "중복 제거 후 train length: 146182\n",
      "\n",
      "중복 제거 전 test length: 49997\n",
      "중복 제거 후 test length: 49157\n",
      "\n"
     ]
    }
   ],
   "source": [
    "print(f'중복 제거 전 train length: {len(train)}')\n",
    "train.drop_duplicates(subset=['document'], inplace=True, ignore_index=True)\n",
    "print(f'중복 제거 후 train length: {len(train)}\\n')\n",
    "print(f'중복 제거 전 test length: {len(test)}')\n",
    "test.drop_duplicates(subset=['document'], inplace=True, ignore_index=True)\n",
    "print(f'중복 제거 후 test length: {len(test)}\\n')"
   ]
  },
  {
   "cell_type": "markdown",
   "id": "d1588824-94d9-4e2a-8005-d1a82647870c",
   "metadata": {},
   "source": [
    "#### 정규표현식으로 한국어만 남기기"
   ]
  },
  {
   "cell_type": "code",
   "execution_count": 6,
   "id": "e5800cc2-a1c7-4896-a346-a7e26bb3e8fb",
   "metadata": {},
   "outputs": [],
   "source": [
    "import re\n",
    "from tqdm import tqdm\n",
    "\n",
    "def removing_non_korean(df):\n",
    "    for idx, row in tqdm(df.iterrows(), desc='removing_non_korean', total=len(df)):\n",
    "        new_doc = re.sub('[^가-힣]', '', row['document']).strip()\n",
    "        df.loc[idx, 'document'] = new_doc\n",
    "    return df"
   ]
  },
  {
   "cell_type": "code",
   "execution_count": 7,
   "id": "05d9e9d5-87e8-45b6-b63c-6433aa55d460",
   "metadata": {},
   "outputs": [
    {
     "name": "stderr",
     "output_type": "stream",
     "text": [
      "removing_non_korean: 100%|██████████| 146182/146182 [00:22<00:00, 6366.81it/s]\n",
      "removing_non_korean: 100%|██████████| 49157/49157 [00:07<00:00, 6368.41it/s]\n"
     ]
    }
   ],
   "source": [
    "train = removing_non_korean(train)\n",
    "test = removing_non_korean(test)"
   ]
  },
  {
   "cell_type": "markdown",
   "id": "210a8c33-571d-4559-a92a-aec2db9d3c75",
   "metadata": {},
   "source": [
    "#### 조사 제거하기"
   ]
  },
  {
   "cell_type": "code",
   "execution_count": 8,
   "id": "e4af453a-f31e-4f42-9590-95ffd81c3744",
   "metadata": {},
   "outputs": [],
   "source": [
    "tags = ['JK', 'JKS', 'JKC', 'JKG', 'JKO', 'JKB', 'JKV', 'JKQ', 'JX', 'JC', 'EP', 'EF', 'EC', 'ETN', 'ETM']"
   ]
  },
  {
   "cell_type": "code",
   "execution_count": 9,
   "id": "95dc7828-b3f6-4ff7-a764-addc1ef2e7ad",
   "metadata": {},
   "outputs": [
    {
     "name": "stderr",
     "output_type": "stream",
     "text": [
      "removing josa: 100%|██████████| 146182/146182 [00:38<00:00, 3791.90it/s]\n",
      "removing josa: 100%|██████████| 49157/49157 [00:13<00:00, 3700.88it/s]\n"
     ]
    }
   ],
   "source": [
    "from konlpy.tag import Mecab\n",
    "\n",
    "m = Mecab()\n",
    "\n",
    "def remove_josa_mecab(df, tags):\n",
    "    for idx, row in tqdm(df.iterrows(), desc='removing josa', total=len(df)):\n",
    "        josa_removed = [x[0] for x in m.pos(row['document']) if x[1] not in tags]\n",
    "        df.loc[idx, 'document'] = ' '.join(josa_removed)\n",
    "    return df\n",
    "\n",
    "train_mecab = remove_josa_mecab(train, tags)\n",
    "test_mecab = remove_josa_mecab(test, tags)"
   ]
  },
  {
   "cell_type": "code",
   "execution_count": 10,
   "id": "89d4dcee-3ad6-4044-b2af-18b5f2869df0",
   "metadata": {},
   "outputs": [
    {
     "name": "stderr",
     "output_type": "stream",
     "text": [
      "removing josa: 100%|██████████| 146182/146182 [01:52<00:00, 1302.89it/s]\n",
      "removing josa: 100%|██████████| 49157/49157 [00:37<00:00, 1323.30it/s]\n"
     ]
    }
   ],
   "source": [
    "from konlpy.tag import Komoran\n",
    "\n",
    "k = Komoran()\n",
    "\n",
    "def remove_josa_komoran(df, tags):\n",
    "    for idx, row in tqdm(df.iterrows(), desc='removing josa', total=len(df)):\n",
    "        josa_removed = [x[0] for x in k.pos(row['document']) if x[1] not in tags]\n",
    "        df.loc[idx, 'document'] = ' '.join(josa_removed)\n",
    "    return df\n",
    "\n",
    "train_komoran = remove_josa_komoran(train, tags)\n",
    "test_komoran = remove_josa_komoran(test, tags)"
   ]
  },
  {
   "cell_type": "markdown",
   "id": "8ddfb1ff-08c9-46de-bf30-064dcdff8456",
   "metadata": {},
   "source": [
    "#### label 분포 확인하기"
   ]
  },
  {
   "cell_type": "code",
   "execution_count": 11,
   "id": "9085d6d5-87b6-4e7e-bd04-a4f663809fe8",
   "metadata": {},
   "outputs": [
    {
     "data": {
      "image/png": "[encoded data removed]",
      "text/plain": [
       "<Figure size 576x396 with 2 Axes>"
      ]
     },
     "metadata": {},
     "output_type": "display_data"
    }
   ],
   "source": [
    "import matplotlib.pyplot as plt\n",
    "plt.style.use('seaborn')\n",
    "\n",
    "train_mecab_vlcnt = train_mecab['label'].value_counts().reset_index()\n",
    "train_komoran_vlcnt = train_komoran['label'].value_counts().reset_index()\n",
    "\n",
    "plt.subplot(1, 2, 1)\n",
    "plt.title('train_mecab', fontsize=20)\n",
    "plt.bar(train_mecab_vlcnt['index'], train_mecab_vlcnt['label'], color='skyblue')\n",
    "\n",
    "plt.subplot(1, 2, 2)\n",
    "plt.title('train_komoran', fontsize=20)\n",
    "plt.bar(train_komoran_vlcnt['index'], train_komoran_vlcnt['label'], color='skyblue')\n",
    "\n",
    "plt.show()"
   ]
  },
  {
   "cell_type": "markdown",
   "id": "960969dc-8d58-442b-a977-0e4d0a3919ab",
   "metadata": {
    "tags": []
   },
   "source": [
    "#### document 데이터 길이 확인해보기"
   ]
  },
  {
   "cell_type": "code",
   "execution_count": 19,
   "id": "7d67599b-5e6d-4151-ba26-d0068ee13405",
   "metadata": {},
   "outputs": [
    {
     "data": {
      "image/png": "[encoded data removed]",
      "text/plain": [
       "<Figure size 576x396 with 2 Axes>"
      ]
     },
     "metadata": {},
     "output_type": "display_data"
    }
   ],
   "source": [
    "import matplotlib.pyplot as plt\n",
    "plt.style.use('seaborn')\n",
    "\n",
    "train_mecab_doc_len = [len(x) for x in train_mecab['document']]\n",
    "train_komoran_doc_len = [len(x) for x in train_komoran['document']]\n",
    "\n",
    "plt.subplots(constrained_layout=True)\n",
    "\n",
    "plt.subplot(2, 1, 1)\n",
    "plt.title('train_mecab', fontsize=20)\n",
    "plt.hist(train_mecab_doc_len, bins=30)\n",
    "\n",
    "plt.subplot(2, 1, 2)\n",
    "plt.title('train_komoran', fontsize=20)\n",
    "plt.hist(train_komoran_doc_len, bins=30)\n",
    "\n",
    "plt.show()"
   ]
  },
  {
   "cell_type": "markdown",
   "id": "da1c4fb9-6421-4924-be38-a537882551be",
   "metadata": {},
   "source": [
    "#### 전처리 완료 데이터 저장하기"
   ]
  },
  {
   "cell_type": "code",
   "execution_count": 13,
   "id": "2e0d60ff-2487-471d-b76f-125bddd8f492",
   "metadata": {},
   "outputs": [],
   "source": [
    "train_mecab.to_csv('data/train_mecab.csv', index=False)\n",
    "test_mecab.to_csv('data/test_mecab.csv', index=False)\n",
    "\n",
    "train_komoran.to_csv('data/train_komoran.csv', index=False)\n",
    "test_komoran.to_csv('data/test_komoran.csv', index=False)"
   ]
  },
  {
   "cell_type": "code",
   "execution_count": null,
   "id": "2cc1aa98-793b-4778-b9a0-a2166cbc0fab",
   "metadata": {},
   "outputs": [],
   "source": []
  }
 ],
 "metadata": {
  "kernelspec": {
   "display_name": "py38",
   "language": "python",
   "name": "py38"
  },
  "language_info": {
   "codemirror_mode": {
    "name": "ipython",
    "version": 3
   },
   "file_extension": ".py",
   "mimetype": "text/x-python",
   "name": "python",
   "nbconvert_exporter": "python",
   "pygments_lexer": "ipython3",
   "version": "3.8.12"
  }
 },
 "nbformat": 4,
 "nbformat_minor": 5
}
